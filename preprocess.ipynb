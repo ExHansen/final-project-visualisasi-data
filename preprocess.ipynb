{
 "cells": [
  {
   "cell_type": "code",
   "execution_count": 178,
   "id": "f702d2de",
   "metadata": {},
   "outputs": [
    {
     "name": "stderr",
     "output_type": "stream",
     "text": [
      "<>:4: SyntaxWarning: invalid escape sequence '\\J'\n",
      "<>:4: SyntaxWarning: invalid escape sequence '\\J'\n",
      "C:\\Users\\WINDOWS\\AppData\\Local\\Temp\\ipykernel_15496\\44715516.py:4: SyntaxWarning: invalid escape sequence '\\J'\n",
      "  df = pd.read_csv(\"E:\\Jupyter\\Data Pegawai Kampus XYZ.csv\")\n"
     ]
    }
   ],
   "source": [
    "import pandas as pd\n",
    "from datetime import datetime\n",
    "\n",
    "df = pd.read_csv(\"E:\\Jupyter\\Data Pegawai Kampus XYZ.csv\")"
   ]
  },
  {
   "cell_type": "code",
   "execution_count": 179,
   "id": "dcdc6379",
   "metadata": {},
   "outputs": [
    {
     "data": {
      "text/html": [
       "<div>\n",
       "<style scoped>\n",
       "    .dataframe tbody tr th:only-of-type {\n",
       "        vertical-align: middle;\n",
       "    }\n",
       "\n",
       "    .dataframe tbody tr th {\n",
       "        vertical-align: top;\n",
       "    }\n",
       "\n",
       "    .dataframe thead th {\n",
       "        text-align: right;\n",
       "    }\n",
       "</style>\n",
       "<table border=\"1\" class=\"dataframe\">\n",
       "  <thead>\n",
       "    <tr style=\"text-align: right;\">\n",
       "      <th></th>\n",
       "      <th>id_pegawai</th>\n",
       "      <th>jk</th>\n",
       "      <th>tgl_lahir</th>\n",
       "      <th>rumpun_ilmu</th>\n",
       "      <th>stat_aktif</th>\n",
       "      <th>stat_pegawai</th>\n",
       "      <th>ikatan_kerja</th>\n",
       "      <th>pendidikan</th>\n",
       "      <th>pangkat</th>\n",
       "      <th>jabatan_akademik</th>\n",
       "      <th>sertifikasi</th>\n",
       "      <th>tahun_sertifikasi</th>\n",
       "      <th>tgl_jabatan_akademik</th>\n",
       "      <th>jenj_prodi</th>\n",
       "      <th>prodi</th>\n",
       "      <th>fakultas</th>\n",
       "    </tr>\n",
       "  </thead>\n",
       "  <tbody>\n",
       "    <tr>\n",
       "      <th>0</th>\n",
       "      <td>1</td>\n",
       "      <td>L</td>\n",
       "      <td>1972-02-10</td>\n",
       "      <td>NaN</td>\n",
       "      <td>Aktif</td>\n",
       "      <td>ASN JF Non Dosen</td>\n",
       "      <td>Dosen Tidak Tetap</td>\n",
       "      <td>Sp-1</td>\n",
       "      <td>NaN</td>\n",
       "      <td>NaN</td>\n",
       "      <td>NaN</td>\n",
       "      <td>NaN</td>\n",
       "      <td>NaN</td>\n",
       "      <td>Profesi</td>\n",
       "      <td>Pendidikan Profesi Dokter</td>\n",
       "      <td>FK</td>\n",
       "    </tr>\n",
       "    <tr>\n",
       "      <th>1</th>\n",
       "      <td>2</td>\n",
       "      <td>L</td>\n",
       "      <td>1985-03-27</td>\n",
       "      <td>RUMPUN ILMU TERAPAN</td>\n",
       "      <td>Aktif</td>\n",
       "      <td>NON ASN</td>\n",
       "      <td>Dosen Tetap Perjanjian Kerja Waktu Tertentu</td>\n",
       "      <td>S3</td>\n",
       "      <td>III/c - Penata</td>\n",
       "      <td>Lektor Kepala</td>\n",
       "      <td>Sertifikasi Dosen</td>\n",
       "      <td>2020.0</td>\n",
       "      <td>2023-06-01</td>\n",
       "      <td>S1</td>\n",
       "      <td>Teknik Mesin</td>\n",
       "      <td>FT</td>\n",
       "    </tr>\n",
       "    <tr>\n",
       "      <th>2</th>\n",
       "      <td>3</td>\n",
       "      <td>P</td>\n",
       "      <td>1990-01-09</td>\n",
       "      <td>RUMPUN ILMU FORMAL</td>\n",
       "      <td>Aktif</td>\n",
       "      <td>PNS</td>\n",
       "      <td>Dosen Tetap</td>\n",
       "      <td>S2</td>\n",
       "      <td>III/b - Penata Muda Tk. I</td>\n",
       "      <td>Asisten Ahli</td>\n",
       "      <td>NaN</td>\n",
       "      <td>NaN</td>\n",
       "      <td>2024-05-01</td>\n",
       "      <td>S1</td>\n",
       "      <td>Sistem Informasi</td>\n",
       "      <td>FIK</td>\n",
       "    </tr>\n",
       "    <tr>\n",
       "      <th>3</th>\n",
       "      <td>4</td>\n",
       "      <td>P</td>\n",
       "      <td>1987-01-12</td>\n",
       "      <td>RUMPUN ILMU FORMAL</td>\n",
       "      <td>Aktif</td>\n",
       "      <td>PNS</td>\n",
       "      <td>Dosen Tetap</td>\n",
       "      <td>S2</td>\n",
       "      <td>III/c - Penata</td>\n",
       "      <td>Lektor</td>\n",
       "      <td>Sertifikasi Dosen</td>\n",
       "      <td>2018.0</td>\n",
       "      <td>2023-07-03</td>\n",
       "      <td>S1</td>\n",
       "      <td>Informatika</td>\n",
       "      <td>FIK</td>\n",
       "    </tr>\n",
       "    <tr>\n",
       "      <th>4</th>\n",
       "      <td>5</td>\n",
       "      <td>P</td>\n",
       "      <td>1967-11-28</td>\n",
       "      <td>NaN</td>\n",
       "      <td>Aktif</td>\n",
       "      <td>ASN JF Non Dosen</td>\n",
       "      <td>Dosen Tidak Tetap</td>\n",
       "      <td>Sp-1</td>\n",
       "      <td>NaN</td>\n",
       "      <td>NaN</td>\n",
       "      <td>NaN</td>\n",
       "      <td>NaN</td>\n",
       "      <td>NaN</td>\n",
       "      <td>Profesi</td>\n",
       "      <td>Pendidikan Profesi Dokter</td>\n",
       "      <td>FK</td>\n",
       "    </tr>\n",
       "  </tbody>\n",
       "</table>\n",
       "</div>"
      ],
      "text/plain": [
       "   id_pegawai jk   tgl_lahir          rumpun_ilmu stat_aktif  \\\n",
       "0           1  L  1972-02-10                  NaN      Aktif   \n",
       "1           2  L  1985-03-27  RUMPUN ILMU TERAPAN      Aktif   \n",
       "2           3  P  1990-01-09   RUMPUN ILMU FORMAL      Aktif   \n",
       "3           4  P  1987-01-12   RUMPUN ILMU FORMAL      Aktif   \n",
       "4           5  P  1967-11-28                  NaN      Aktif   \n",
       "\n",
       "       stat_pegawai                                 ikatan_kerja pendidikan  \\\n",
       "0  ASN JF Non Dosen                            Dosen Tidak Tetap       Sp-1   \n",
       "1           NON ASN  Dosen Tetap Perjanjian Kerja Waktu Tertentu         S3   \n",
       "2               PNS                                  Dosen Tetap         S2   \n",
       "3               PNS                                  Dosen Tetap         S2   \n",
       "4  ASN JF Non Dosen                            Dosen Tidak Tetap       Sp-1   \n",
       "\n",
       "                     pangkat jabatan_akademik        sertifikasi  \\\n",
       "0                        NaN              NaN                NaN   \n",
       "1             III/c - Penata    Lektor Kepala  Sertifikasi Dosen   \n",
       "2  III/b - Penata Muda Tk. I     Asisten Ahli                NaN   \n",
       "3             III/c - Penata           Lektor  Sertifikasi Dosen   \n",
       "4                        NaN              NaN                NaN   \n",
       "\n",
       "   tahun_sertifikasi tgl_jabatan_akademik jenj_prodi  \\\n",
       "0                NaN                  NaN    Profesi   \n",
       "1             2020.0           2023-06-01         S1   \n",
       "2                NaN           2024-05-01         S1   \n",
       "3             2018.0           2023-07-03         S1   \n",
       "4                NaN                  NaN    Profesi   \n",
       "\n",
       "                       prodi fakultas  \n",
       "0  Pendidikan Profesi Dokter       FK  \n",
       "1               Teknik Mesin       FT  \n",
       "2           Sistem Informasi      FIK  \n",
       "3                Informatika      FIK  \n",
       "4  Pendidikan Profesi Dokter       FK  "
      ]
     },
     "execution_count": 179,
     "metadata": {},
     "output_type": "execute_result"
    }
   ],
   "source": [
    "df.head()"
   ]
  },
  {
   "cell_type": "markdown",
   "id": "7896035a",
   "metadata": {},
   "source": [
    "## Semua"
   ]
  },
  {
   "cell_type": "code",
   "execution_count": 180,
   "id": "fcf205bc",
   "metadata": {},
   "outputs": [
    {
     "name": "stdout",
     "output_type": "stream",
     "text": [
      "<class 'pandas.core.frame.DataFrame'>\n",
      "RangeIndex: 725 entries, 0 to 724\n",
      "Data columns (total 16 columns):\n",
      " #   Column                Non-Null Count  Dtype  \n",
      "---  ------                --------------  -----  \n",
      " 0   id_pegawai            725 non-null    int64  \n",
      " 1   jk                    725 non-null    object \n",
      " 2   tgl_lahir             725 non-null    object \n",
      " 3   rumpun_ilmu           503 non-null    object \n",
      " 4   stat_aktif            725 non-null    object \n",
      " 5   stat_pegawai          725 non-null    object \n",
      " 6   ikatan_kerja          725 non-null    object \n",
      " 7   pendidikan            725 non-null    object \n",
      " 8   pangkat               520 non-null    object \n",
      " 9   jabatan_akademik      490 non-null    object \n",
      " 10  sertifikasi           314 non-null    object \n",
      " 11  tahun_sertifikasi     314 non-null    float64\n",
      " 12  tgl_jabatan_akademik  490 non-null    object \n",
      " 13  jenj_prodi            725 non-null    object \n",
      " 14  prodi                 725 non-null    object \n",
      " 15  fakultas              725 non-null    object \n",
      "dtypes: float64(1), int64(1), object(14)\n",
      "memory usage: 90.8+ KB\n"
     ]
    }
   ],
   "source": [
    "df.info()"
   ]
  },
  {
   "cell_type": "code",
   "execution_count": 181,
   "id": "7d120030",
   "metadata": {},
   "outputs": [
    {
     "data": {
      "text/html": [
       "<div>\n",
       "<style scoped>\n",
       "    .dataframe tbody tr th:only-of-type {\n",
       "        vertical-align: middle;\n",
       "    }\n",
       "\n",
       "    .dataframe tbody tr th {\n",
       "        vertical-align: top;\n",
       "    }\n",
       "\n",
       "    .dataframe thead th {\n",
       "        text-align: right;\n",
       "    }\n",
       "</style>\n",
       "<table border=\"1\" class=\"dataframe\">\n",
       "  <thead>\n",
       "    <tr style=\"text-align: right;\">\n",
       "      <th></th>\n",
       "      <th>id_pegawai</th>\n",
       "      <th>tahun_sertifikasi</th>\n",
       "    </tr>\n",
       "  </thead>\n",
       "  <tbody>\n",
       "    <tr>\n",
       "      <th>count</th>\n",
       "      <td>725.00000</td>\n",
       "      <td>314.000000</td>\n",
       "    </tr>\n",
       "    <tr>\n",
       "      <th>mean</th>\n",
       "      <td>363.00000</td>\n",
       "      <td>1985.582803</td>\n",
       "    </tr>\n",
       "    <tr>\n",
       "      <th>std</th>\n",
       "      <td>209.43376</td>\n",
       "      <td>253.014088</td>\n",
       "    </tr>\n",
       "    <tr>\n",
       "      <th>min</th>\n",
       "      <td>1.00000</td>\n",
       "      <td>0.000000</td>\n",
       "    </tr>\n",
       "    <tr>\n",
       "      <th>25%</th>\n",
       "      <td>182.00000</td>\n",
       "      <td>2015.000000</td>\n",
       "    </tr>\n",
       "    <tr>\n",
       "      <th>50%</th>\n",
       "      <td>363.00000</td>\n",
       "      <td>2018.000000</td>\n",
       "    </tr>\n",
       "    <tr>\n",
       "      <th>75%</th>\n",
       "      <td>544.00000</td>\n",
       "      <td>2021.000000</td>\n",
       "    </tr>\n",
       "    <tr>\n",
       "      <th>max</th>\n",
       "      <td>725.00000</td>\n",
       "      <td>2024.000000</td>\n",
       "    </tr>\n",
       "  </tbody>\n",
       "</table>\n",
       "</div>"
      ],
      "text/plain": [
       "       id_pegawai  tahun_sertifikasi\n",
       "count   725.00000         314.000000\n",
       "mean    363.00000        1985.582803\n",
       "std     209.43376         253.014088\n",
       "min       1.00000           0.000000\n",
       "25%     182.00000        2015.000000\n",
       "50%     363.00000        2018.000000\n",
       "75%     544.00000        2021.000000\n",
       "max     725.00000        2024.000000"
      ]
     },
     "execution_count": 181,
     "metadata": {},
     "output_type": "execute_result"
    }
   ],
   "source": [
    "df.describe()"
   ]
  },
  {
   "cell_type": "code",
   "execution_count": 182,
   "id": "7793d08b",
   "metadata": {},
   "outputs": [
    {
     "data": {
      "text/plain": [
       "id_pegawai                0\n",
       "jk                        0\n",
       "tgl_lahir                 0\n",
       "rumpun_ilmu             222\n",
       "stat_aktif                0\n",
       "stat_pegawai              0\n",
       "ikatan_kerja              0\n",
       "pendidikan                0\n",
       "pangkat                 205\n",
       "jabatan_akademik        235\n",
       "sertifikasi             411\n",
       "tahun_sertifikasi       411\n",
       "tgl_jabatan_akademik    235\n",
       "jenj_prodi                0\n",
       "prodi                     0\n",
       "fakultas                  0\n",
       "dtype: int64"
      ]
     },
     "execution_count": 182,
     "metadata": {},
     "output_type": "execute_result"
    }
   ],
   "source": [
    "df.isnull().sum()"
   ]
  },
  {
   "cell_type": "markdown",
   "id": "6eb617fb",
   "metadata": {},
   "source": [
    "Menghilangkan Whitespace/spasi ganda"
   ]
  },
  {
   "cell_type": "code",
   "execution_count": 183,
   "id": "2b230c24",
   "metadata": {},
   "outputs": [
    {
     "name": "stderr",
     "output_type": "stream",
     "text": [
      "C:\\Users\\WINDOWS\\AppData\\Local\\Temp\\ipykernel_15496\\2390159178.py:2: FutureWarning: DataFrame.applymap has been deprecated. Use DataFrame.map instead.\n",
      "  df = df.applymap(lambda x: x.strip() if isinstance(x, str) else x)\n"
     ]
    }
   ],
   "source": [
    "df.columns = df.columns.str.strip()\n",
    "df = df.applymap(lambda x: x.strip() if isinstance(x, str) else x)"
   ]
  },
  {
   "cell_type": "markdown",
   "id": "c9d2e2e1",
   "metadata": {},
   "source": [
    "## id_pegawai"
   ]
  },
  {
   "cell_type": "code",
   "execution_count": 184,
   "id": "a485835f",
   "metadata": {},
   "outputs": [
    {
     "data": {
      "text/plain": [
       "725"
      ]
     },
     "execution_count": 184,
     "metadata": {},
     "output_type": "execute_result"
    }
   ],
   "source": [
    "df['id_pegawai'].nunique()"
   ]
  },
  {
   "cell_type": "code",
   "execution_count": 185,
   "id": "195a7d7e",
   "metadata": {},
   "outputs": [
    {
     "data": {
      "text/plain": [
       "0"
      ]
     },
     "execution_count": 185,
     "metadata": {},
     "output_type": "execute_result"
    }
   ],
   "source": [
    "## Mencari jika ID ada duplikat atau tidak\n",
    "df['id_pegawai'].duplicated().sum()"
   ]
  },
  {
   "cell_type": "markdown",
   "id": "60302a0c",
   "metadata": {},
   "source": [
    "## jk"
   ]
  },
  {
   "cell_type": "code",
   "execution_count": 186,
   "id": "b9114348",
   "metadata": {},
   "outputs": [
    {
     "data": {
      "text/plain": [
       "array(['L', 'P'], dtype=object)"
      ]
     },
     "execution_count": 186,
     "metadata": {},
     "output_type": "execute_result"
    }
   ],
   "source": [
    "df['jk'].unique()"
   ]
  },
  {
   "cell_type": "code",
   "execution_count": 187,
   "id": "737e2f29",
   "metadata": {},
   "outputs": [
    {
     "data": {
      "text/plain": [
       "jk\n",
       "P    393\n",
       "L    332\n",
       "Name: count, dtype: int64"
      ]
     },
     "execution_count": 187,
     "metadata": {},
     "output_type": "execute_result"
    }
   ],
   "source": [
    "df['jk'].value_counts()"
   ]
  },
  {
   "cell_type": "markdown",
   "id": "74cb44d1",
   "metadata": {},
   "source": [
    "## tgl_lahir"
   ]
  },
  {
   "cell_type": "code",
   "execution_count": 188,
   "id": "f23b37bd",
   "metadata": {},
   "outputs": [],
   "source": [
    "df['tgl_lahir'] = pd.to_datetime(df['tgl_lahir'], errors='coerce')"
   ]
  },
  {
   "cell_type": "code",
   "execution_count": 189,
   "id": "8a90da63",
   "metadata": {},
   "outputs": [
    {
     "name": "stdout",
     "output_type": "stream",
     "text": [
      "<class 'pandas.core.frame.DataFrame'>\n",
      "RangeIndex: 725 entries, 0 to 724\n",
      "Data columns (total 16 columns):\n",
      " #   Column                Non-Null Count  Dtype         \n",
      "---  ------                --------------  -----         \n",
      " 0   id_pegawai            725 non-null    int64         \n",
      " 1   jk                    725 non-null    object        \n",
      " 2   tgl_lahir             725 non-null    datetime64[ns]\n",
      " 3   rumpun_ilmu           503 non-null    object        \n",
      " 4   stat_aktif            725 non-null    object        \n",
      " 5   stat_pegawai          725 non-null    object        \n",
      " 6   ikatan_kerja          725 non-null    object        \n",
      " 7   pendidikan            725 non-null    object        \n",
      " 8   pangkat               520 non-null    object        \n",
      " 9   jabatan_akademik      490 non-null    object        \n",
      " 10  sertifikasi           314 non-null    object        \n",
      " 11  tahun_sertifikasi     314 non-null    float64       \n",
      " 12  tgl_jabatan_akademik  490 non-null    object        \n",
      " 13  jenj_prodi            725 non-null    object        \n",
      " 14  prodi                 725 non-null    object        \n",
      " 15  fakultas              725 non-null    object        \n",
      "dtypes: datetime64[ns](1), float64(1), int64(1), object(13)\n",
      "memory usage: 90.8+ KB\n"
     ]
    }
   ],
   "source": [
    "df.info()"
   ]
  },
  {
   "cell_type": "markdown",
   "id": "f4a4016b",
   "metadata": {},
   "source": [
    "Tambah kolom umur agar dapat memvisualisasikan data-data yang berhubungan dengan umur mereka."
   ]
  },
  {
   "cell_type": "code",
   "execution_count": 190,
   "id": "b6cc3108",
   "metadata": {},
   "outputs": [],
   "source": [
    "df['umur'] = (datetime.now() - df['tgl_lahir']).dt.days // 365"
   ]
  },
  {
   "cell_type": "markdown",
   "id": "ec5199a5",
   "metadata": {},
   "source": [
    "## rumpun_ilmu"
   ]
  },
  {
   "cell_type": "markdown",
   "id": "302a545d",
   "metadata": {},
   "source": [
    "Jika tidak ada rumpun ilmu, biasanya pengajar non dosen"
   ]
  },
  {
   "cell_type": "code",
   "execution_count": 191,
   "id": "cd6e0eda",
   "metadata": {},
   "outputs": [
    {
     "data": {
      "text/plain": [
       "array([nan, 'RUMPUN ILMU TERAPAN', 'RUMPUN ILMU FORMAL',\n",
       "       'RUMPUN ILMU SOSIAL', 'RUMPUN ILMU ALAM', 'RUMPUN ILMU HUMANIORA',\n",
       "       'RUMPUN ILMU KEAGAMAAN'], dtype=object)"
      ]
     },
     "execution_count": 191,
     "metadata": {},
     "output_type": "execute_result"
    }
   ],
   "source": [
    "df['rumpun_ilmu'].unique()"
   ]
  },
  {
   "cell_type": "code",
   "execution_count": 192,
   "id": "e22f821b",
   "metadata": {},
   "outputs": [
    {
     "data": {
      "text/plain": [
       "rumpun_ilmu\n",
       "RUMPUN ILMU TERAPAN      378\n",
       "RUMPUN ILMU SOSIAL        72\n",
       "RUMPUN ILMU FORMAL        45\n",
       "RUMPUN ILMU ALAM           4\n",
       "RUMPUN ILMU HUMANIORA      3\n",
       "RUMPUN ILMU KEAGAMAAN      1\n",
       "Name: count, dtype: int64"
      ]
     },
     "execution_count": 192,
     "metadata": {},
     "output_type": "execute_result"
    }
   ],
   "source": [
    "df['rumpun_ilmu'].value_counts()"
   ]
  },
  {
   "cell_type": "code",
   "execution_count": 193,
   "id": "fe1333b9",
   "metadata": {},
   "outputs": [
    {
     "data": {
      "text/plain": [
       "222"
      ]
     },
     "execution_count": 193,
     "metadata": {},
     "output_type": "execute_result"
    }
   ],
   "source": [
    "df['rumpun_ilmu'].isnull().sum()"
   ]
  },
  {
   "cell_type": "code",
   "execution_count": 194,
   "id": "05d54b0b",
   "metadata": {},
   "outputs": [],
   "source": [
    "df['rumpun_ilmu'] = df['rumpun_ilmu'].fillna('Null')"
   ]
  },
  {
   "cell_type": "code",
   "execution_count": 195,
   "id": "06d018e1",
   "metadata": {},
   "outputs": [
    {
     "data": {
      "text/html": [
       "<div>\n",
       "<style scoped>\n",
       "    .dataframe tbody tr th:only-of-type {\n",
       "        vertical-align: middle;\n",
       "    }\n",
       "\n",
       "    .dataframe tbody tr th {\n",
       "        vertical-align: top;\n",
       "    }\n",
       "\n",
       "    .dataframe thead th {\n",
       "        text-align: right;\n",
       "    }\n",
       "</style>\n",
       "<table border=\"1\" class=\"dataframe\">\n",
       "  <thead>\n",
       "    <tr style=\"text-align: right;\">\n",
       "      <th></th>\n",
       "      <th>id_pegawai</th>\n",
       "      <th>jk</th>\n",
       "      <th>tgl_lahir</th>\n",
       "      <th>rumpun_ilmu</th>\n",
       "      <th>stat_aktif</th>\n",
       "      <th>stat_pegawai</th>\n",
       "      <th>ikatan_kerja</th>\n",
       "      <th>pendidikan</th>\n",
       "      <th>pangkat</th>\n",
       "      <th>jabatan_akademik</th>\n",
       "      <th>sertifikasi</th>\n",
       "      <th>tahun_sertifikasi</th>\n",
       "      <th>tgl_jabatan_akademik</th>\n",
       "      <th>jenj_prodi</th>\n",
       "      <th>prodi</th>\n",
       "      <th>fakultas</th>\n",
       "      <th>umur</th>\n",
       "    </tr>\n",
       "  </thead>\n",
       "  <tbody>\n",
       "    <tr>\n",
       "      <th>0</th>\n",
       "      <td>1</td>\n",
       "      <td>L</td>\n",
       "      <td>1972-02-10</td>\n",
       "      <td>Null</td>\n",
       "      <td>Aktif</td>\n",
       "      <td>ASN JF Non Dosen</td>\n",
       "      <td>Dosen Tidak Tetap</td>\n",
       "      <td>Sp-1</td>\n",
       "      <td>NaN</td>\n",
       "      <td>NaN</td>\n",
       "      <td>NaN</td>\n",
       "      <td>NaN</td>\n",
       "      <td>NaN</td>\n",
       "      <td>Profesi</td>\n",
       "      <td>Pendidikan Profesi Dokter</td>\n",
       "      <td>FK</td>\n",
       "      <td>53</td>\n",
       "    </tr>\n",
       "    <tr>\n",
       "      <th>1</th>\n",
       "      <td>2</td>\n",
       "      <td>L</td>\n",
       "      <td>1985-03-27</td>\n",
       "      <td>RUMPUN ILMU TERAPAN</td>\n",
       "      <td>Aktif</td>\n",
       "      <td>NON ASN</td>\n",
       "      <td>Dosen Tetap Perjanjian Kerja Waktu Tertentu</td>\n",
       "      <td>S3</td>\n",
       "      <td>III/c - Penata</td>\n",
       "      <td>Lektor Kepala</td>\n",
       "      <td>Sertifikasi Dosen</td>\n",
       "      <td>2020.0</td>\n",
       "      <td>2023-06-01</td>\n",
       "      <td>S1</td>\n",
       "      <td>Teknik Mesin</td>\n",
       "      <td>FT</td>\n",
       "      <td>40</td>\n",
       "    </tr>\n",
       "    <tr>\n",
       "      <th>2</th>\n",
       "      <td>3</td>\n",
       "      <td>P</td>\n",
       "      <td>1990-01-09</td>\n",
       "      <td>RUMPUN ILMU FORMAL</td>\n",
       "      <td>Aktif</td>\n",
       "      <td>PNS</td>\n",
       "      <td>Dosen Tetap</td>\n",
       "      <td>S2</td>\n",
       "      <td>III/b - Penata Muda Tk. I</td>\n",
       "      <td>Asisten Ahli</td>\n",
       "      <td>NaN</td>\n",
       "      <td>NaN</td>\n",
       "      <td>2024-05-01</td>\n",
       "      <td>S1</td>\n",
       "      <td>Sistem Informasi</td>\n",
       "      <td>FIK</td>\n",
       "      <td>35</td>\n",
       "    </tr>\n",
       "    <tr>\n",
       "      <th>3</th>\n",
       "      <td>4</td>\n",
       "      <td>P</td>\n",
       "      <td>1987-01-12</td>\n",
       "      <td>RUMPUN ILMU FORMAL</td>\n",
       "      <td>Aktif</td>\n",
       "      <td>PNS</td>\n",
       "      <td>Dosen Tetap</td>\n",
       "      <td>S2</td>\n",
       "      <td>III/c - Penata</td>\n",
       "      <td>Lektor</td>\n",
       "      <td>Sertifikasi Dosen</td>\n",
       "      <td>2018.0</td>\n",
       "      <td>2023-07-03</td>\n",
       "      <td>S1</td>\n",
       "      <td>Informatika</td>\n",
       "      <td>FIK</td>\n",
       "      <td>38</td>\n",
       "    </tr>\n",
       "    <tr>\n",
       "      <th>4</th>\n",
       "      <td>5</td>\n",
       "      <td>P</td>\n",
       "      <td>1967-11-28</td>\n",
       "      <td>Null</td>\n",
       "      <td>Aktif</td>\n",
       "      <td>ASN JF Non Dosen</td>\n",
       "      <td>Dosen Tidak Tetap</td>\n",
       "      <td>Sp-1</td>\n",
       "      <td>NaN</td>\n",
       "      <td>NaN</td>\n",
       "      <td>NaN</td>\n",
       "      <td>NaN</td>\n",
       "      <td>NaN</td>\n",
       "      <td>Profesi</td>\n",
       "      <td>Pendidikan Profesi Dokter</td>\n",
       "      <td>FK</td>\n",
       "      <td>57</td>\n",
       "    </tr>\n",
       "  </tbody>\n",
       "</table>\n",
       "</div>"
      ],
      "text/plain": [
       "   id_pegawai jk  tgl_lahir          rumpun_ilmu stat_aktif      stat_pegawai  \\\n",
       "0           1  L 1972-02-10                 Null      Aktif  ASN JF Non Dosen   \n",
       "1           2  L 1985-03-27  RUMPUN ILMU TERAPAN      Aktif           NON ASN   \n",
       "2           3  P 1990-01-09   RUMPUN ILMU FORMAL      Aktif               PNS   \n",
       "3           4  P 1987-01-12   RUMPUN ILMU FORMAL      Aktif               PNS   \n",
       "4           5  P 1967-11-28                 Null      Aktif  ASN JF Non Dosen   \n",
       "\n",
       "                                  ikatan_kerja pendidikan  \\\n",
       "0                            Dosen Tidak Tetap       Sp-1   \n",
       "1  Dosen Tetap Perjanjian Kerja Waktu Tertentu         S3   \n",
       "2                                  Dosen Tetap         S2   \n",
       "3                                  Dosen Tetap         S2   \n",
       "4                            Dosen Tidak Tetap       Sp-1   \n",
       "\n",
       "                     pangkat jabatan_akademik        sertifikasi  \\\n",
       "0                        NaN              NaN                NaN   \n",
       "1             III/c - Penata    Lektor Kepala  Sertifikasi Dosen   \n",
       "2  III/b - Penata Muda Tk. I     Asisten Ahli                NaN   \n",
       "3             III/c - Penata           Lektor  Sertifikasi Dosen   \n",
       "4                        NaN              NaN                NaN   \n",
       "\n",
       "   tahun_sertifikasi tgl_jabatan_akademik jenj_prodi  \\\n",
       "0                NaN                  NaN    Profesi   \n",
       "1             2020.0           2023-06-01         S1   \n",
       "2                NaN           2024-05-01         S1   \n",
       "3             2018.0           2023-07-03         S1   \n",
       "4                NaN                  NaN    Profesi   \n",
       "\n",
       "                       prodi fakultas  umur  \n",
       "0  Pendidikan Profesi Dokter       FK    53  \n",
       "1               Teknik Mesin       FT    40  \n",
       "2           Sistem Informasi      FIK    35  \n",
       "3                Informatika      FIK    38  \n",
       "4  Pendidikan Profesi Dokter       FK    57  "
      ]
     },
     "execution_count": 195,
     "metadata": {},
     "output_type": "execute_result"
    }
   ],
   "source": [
    "df.head()"
   ]
  },
  {
   "cell_type": "markdown",
   "id": "40a9c986",
   "metadata": {},
   "source": [
    "## stat_aktif"
   ]
  },
  {
   "cell_type": "code",
   "execution_count": 196,
   "id": "a12d1712",
   "metadata": {},
   "outputs": [
    {
     "data": {
      "text/plain": [
       "array(['Aktif', 'TUGAS BELAJAR', 'CUTI'], dtype=object)"
      ]
     },
     "execution_count": 196,
     "metadata": {},
     "output_type": "execute_result"
    }
   ],
   "source": [
    "df['stat_aktif'].unique()"
   ]
  },
  {
   "cell_type": "code",
   "execution_count": 197,
   "id": "a48e3814",
   "metadata": {},
   "outputs": [
    {
     "data": {
      "text/plain": [
       "stat_aktif\n",
       "Aktif            677\n",
       "TUGAS BELAJAR     47\n",
       "CUTI               1\n",
       "Name: count, dtype: int64"
      ]
     },
     "execution_count": 197,
     "metadata": {},
     "output_type": "execute_result"
    }
   ],
   "source": [
    "df['stat_aktif'].value_counts()"
   ]
  },
  {
   "cell_type": "markdown",
   "id": "dc6aead9",
   "metadata": {},
   "source": [
    "## stat_pegawai"
   ]
  },
  {
   "cell_type": "markdown",
   "id": "39b59ebe",
   "metadata": {},
   "source": [
    "1. NON ASN = Pegawai non Aparatur Sipil Negara, biasanya pegawai kontrak atau honorer.\n",
    "2. PNS\t= Pegawai Negeri Sipil; status kepegawaian tetap dari pemerintah.\n",
    "3. PPPK\t= Pegawai Pemerintah dengan Perjanjian Kerja; pegawai kontrak dari pemerintah.\n",
    "4. CPNS\t= Calon Pegawai Negeri Sipil; status sementara sebelum menjadi PNS penuh.\n",
    "5. TNI\t= Anggota Tentara Nasional Indonesia yang ditugaskan (biasanya untuk matkul bela negara, dsb).\n",
    "6. ASN JF Non Dosen = \tAparatur Sipil Negara Jabatan Fungsional Non Dosen (misalnya pustakawan, pranata komputer, dsb).\n",
    "7. POLRI = Anggota Kepolisian Negara Republik Indonesia yang ditugaskan."
   ]
  },
  {
   "cell_type": "markdown",
   "id": "1d137cbf",
   "metadata": {},
   "source": [
    "Insight:\n",
    "1. ASN JF NON DOSEN pasti memiliki ikatan_kerja Dosen Tidak Tetap (Tidak merupakan dosen tetap)\n",
    "2. NON ASN pasti bukan dosen tetap (Dosen Tidak Tetap, Dosen Tetap Perjanjian Kerja Waktu Tertentu, Pengajar nondosen)\n",
    "3. POLRI itu merupakan kepolisian, bukan dosen\n",
    "4. TNI itu pasti bukan dosen tetap\n",
    "5. PPPK itu kebanyakan Dosen Tetap Perjanjian Kerja Waktu Tertentu, karena kontrak\n",
    "6. PNS itu Dosen tetap\n",
    "7. CPNS itu Dosen tetap"
   ]
  },
  {
   "cell_type": "code",
   "execution_count": 198,
   "id": "b0881397",
   "metadata": {},
   "outputs": [
    {
     "data": {
      "text/plain": [
       "array(['ASN JF Non Dosen', 'NON ASN', 'PNS', 'TNI', 'CPNS', 'PPPK',\n",
       "       'POLRI'], dtype=object)"
      ]
     },
     "execution_count": 198,
     "metadata": {},
     "output_type": "execute_result"
    }
   ],
   "source": [
    "df['stat_pegawai'].unique()"
   ]
  },
  {
   "cell_type": "code",
   "execution_count": 199,
   "id": "51a741dc",
   "metadata": {},
   "outputs": [
    {
     "data": {
      "text/plain": [
       "stat_pegawai\n",
       "NON ASN             235\n",
       "PNS                 233\n",
       "PPPK                 84\n",
       "CPNS                 80\n",
       "TNI                  44\n",
       "ASN JF Non Dosen     43\n",
       "POLRI                 6\n",
       "Name: count, dtype: int64"
      ]
     },
     "execution_count": 199,
     "metadata": {},
     "output_type": "execute_result"
    }
   ],
   "source": [
    "df['stat_pegawai'].value_counts()"
   ]
  },
  {
   "cell_type": "markdown",
   "id": "2b253dcb",
   "metadata": {},
   "source": [
    "## ikatan_kerja"
   ]
  },
  {
   "cell_type": "code",
   "execution_count": 200,
   "id": "1c9b4699",
   "metadata": {},
   "outputs": [
    {
     "data": {
      "text/plain": [
       "array(['Dosen Tidak Tetap', 'Dosen Tetap Perjanjian Kerja Waktu Tertentu',\n",
       "       'Dosen Tetap', 'Pengajar nondosen'], dtype=object)"
      ]
     },
     "execution_count": 200,
     "metadata": {},
     "output_type": "execute_result"
    }
   ],
   "source": [
    "df['ikatan_kerja'].unique()"
   ]
  },
  {
   "cell_type": "code",
   "execution_count": 201,
   "id": "57b28687",
   "metadata": {},
   "outputs": [
    {
     "data": {
      "text/plain": [
       "ikatan_kerja\n",
       "Dosen Tetap                                    313\n",
       "Dosen Tetap Perjanjian Kerja Waktu Tertentu    220\n",
       "Dosen Tidak Tetap                              186\n",
       "Pengajar nondosen                                6\n",
       "Name: count, dtype: int64"
      ]
     },
     "execution_count": 201,
     "metadata": {},
     "output_type": "execute_result"
    }
   ],
   "source": [
    "df['ikatan_kerja'].value_counts()"
   ]
  },
  {
   "cell_type": "markdown",
   "id": "80cc907c",
   "metadata": {},
   "source": [
    "Berarti:\n",
    "1. Dosen Tetap: **CPNS**, **PNS**\n",
    "2. Dosen Tetap Perjanjian Kerja Waktu Tertentu: **NON ASN**, **PPPK**\n",
    "3. Pengajar Nondosen: **NON ASN**\n",
    "4. Dosen Tidak Tetap: **ASN JF NON DOSEN**, **NON ASN**, **POLRI**, **TNI**"
   ]
  },
  {
   "cell_type": "markdown",
   "id": "8a9a7954",
   "metadata": {},
   "source": [
    "## pendidikan"
   ]
  },
  {
   "cell_type": "code",
   "execution_count": 202,
   "id": "f97fce1a",
   "metadata": {},
   "outputs": [
    {
     "data": {
      "text/plain": [
       "array(['Sp-1', 'S3', 'S2', 'Profesi', 'Sp-2'], dtype=object)"
      ]
     },
     "execution_count": 202,
     "metadata": {},
     "output_type": "execute_result"
    }
   ],
   "source": [
    "df['pendidikan'].unique()"
   ]
  },
  {
   "cell_type": "code",
   "execution_count": 203,
   "id": "efc4a943",
   "metadata": {},
   "outputs": [
    {
     "data": {
      "text/plain": [
       "pendidikan\n",
       "S2         436\n",
       "S3         157\n",
       "Sp-1       122\n",
       "Sp-2         7\n",
       "Profesi      3\n",
       "Name: count, dtype: int64"
      ]
     },
     "execution_count": 203,
     "metadata": {},
     "output_type": "execute_result"
    }
   ],
   "source": [
    "df['pendidikan'].value_counts()"
   ]
  },
  {
   "cell_type": "markdown",
   "id": "6efc1ebd",
   "metadata": {},
   "source": [
    "## pangkat"
   ]
  },
  {
   "cell_type": "code",
   "execution_count": 204,
   "id": "c39180c1",
   "metadata": {},
   "outputs": [
    {
     "data": {
      "text/plain": [
       "array([nan, 'III/c - Penata', 'III/b - Penata Muda Tk. I',\n",
       "       'IV/a - Pembina', 'IV/d - Pembina Utama Madya',\n",
       "       'IV/b - Pembina Tk. I', 'III/d - Penata Tk. I',\n",
       "       'IV/c - Pembina Utama Muda', 'III/a - Penata Muda',\n",
       "       'IV/e - Pembina Utama'], dtype=object)"
      ]
     },
     "execution_count": 204,
     "metadata": {},
     "output_type": "execute_result"
    }
   ],
   "source": [
    "df['pangkat'].unique()"
   ]
  },
  {
   "cell_type": "code",
   "execution_count": 205,
   "id": "7f94b793",
   "metadata": {},
   "outputs": [
    {
     "data": {
      "text/plain": [
       "205"
      ]
     },
     "execution_count": 205,
     "metadata": {},
     "output_type": "execute_result"
    }
   ],
   "source": [
    "df['pangkat'].isnull().sum()"
   ]
  },
  {
   "cell_type": "code",
   "execution_count": 206,
   "id": "dd4ab9f7",
   "metadata": {},
   "outputs": [],
   "source": [
    "df['pangkat'] = df['pangkat'].fillna('Null')"
   ]
  },
  {
   "cell_type": "code",
   "execution_count": 207,
   "id": "4335cc11",
   "metadata": {},
   "outputs": [
    {
     "data": {
      "text/plain": [
       "array(['Null', 'III/c - Penata', 'III/b - Penata Muda Tk. I',\n",
       "       'IV/a - Pembina', 'IV/d - Pembina Utama Madya',\n",
       "       'IV/b - Pembina Tk. I', 'III/d - Penata Tk. I',\n",
       "       'IV/c - Pembina Utama Muda', 'III/a - Penata Muda',\n",
       "       'IV/e - Pembina Utama'], dtype=object)"
      ]
     },
     "execution_count": 207,
     "metadata": {},
     "output_type": "execute_result"
    }
   ],
   "source": [
    "df['pangkat'].unique()"
   ]
  },
  {
   "cell_type": "code",
   "execution_count": 208,
   "id": "f62311a2",
   "metadata": {},
   "outputs": [
    {
     "data": {
      "text/html": [
       "<div>\n",
       "<style scoped>\n",
       "    .dataframe tbody tr th:only-of-type {\n",
       "        vertical-align: middle;\n",
       "    }\n",
       "\n",
       "    .dataframe tbody tr th {\n",
       "        vertical-align: top;\n",
       "    }\n",
       "\n",
       "    .dataframe thead th {\n",
       "        text-align: right;\n",
       "    }\n",
       "</style>\n",
       "<table border=\"1\" class=\"dataframe\">\n",
       "  <thead>\n",
       "    <tr style=\"text-align: right;\">\n",
       "      <th></th>\n",
       "      <th>id_pegawai</th>\n",
       "      <th>jk</th>\n",
       "      <th>tgl_lahir</th>\n",
       "      <th>rumpun_ilmu</th>\n",
       "      <th>stat_aktif</th>\n",
       "      <th>stat_pegawai</th>\n",
       "      <th>ikatan_kerja</th>\n",
       "      <th>pendidikan</th>\n",
       "      <th>pangkat</th>\n",
       "      <th>jabatan_akademik</th>\n",
       "      <th>sertifikasi</th>\n",
       "      <th>tahun_sertifikasi</th>\n",
       "      <th>tgl_jabatan_akademik</th>\n",
       "      <th>jenj_prodi</th>\n",
       "      <th>prodi</th>\n",
       "      <th>fakultas</th>\n",
       "      <th>umur</th>\n",
       "    </tr>\n",
       "  </thead>\n",
       "  <tbody>\n",
       "    <tr>\n",
       "      <th>0</th>\n",
       "      <td>1</td>\n",
       "      <td>L</td>\n",
       "      <td>1972-02-10</td>\n",
       "      <td>Null</td>\n",
       "      <td>Aktif</td>\n",
       "      <td>ASN JF Non Dosen</td>\n",
       "      <td>Dosen Tidak Tetap</td>\n",
       "      <td>Sp-1</td>\n",
       "      <td>Null</td>\n",
       "      <td>NaN</td>\n",
       "      <td>NaN</td>\n",
       "      <td>NaN</td>\n",
       "      <td>NaN</td>\n",
       "      <td>Profesi</td>\n",
       "      <td>Pendidikan Profesi Dokter</td>\n",
       "      <td>FK</td>\n",
       "      <td>53</td>\n",
       "    </tr>\n",
       "    <tr>\n",
       "      <th>1</th>\n",
       "      <td>2</td>\n",
       "      <td>L</td>\n",
       "      <td>1985-03-27</td>\n",
       "      <td>RUMPUN ILMU TERAPAN</td>\n",
       "      <td>Aktif</td>\n",
       "      <td>NON ASN</td>\n",
       "      <td>Dosen Tetap Perjanjian Kerja Waktu Tertentu</td>\n",
       "      <td>S3</td>\n",
       "      <td>III/c - Penata</td>\n",
       "      <td>Lektor Kepala</td>\n",
       "      <td>Sertifikasi Dosen</td>\n",
       "      <td>2020.0</td>\n",
       "      <td>2023-06-01</td>\n",
       "      <td>S1</td>\n",
       "      <td>Teknik Mesin</td>\n",
       "      <td>FT</td>\n",
       "      <td>40</td>\n",
       "    </tr>\n",
       "    <tr>\n",
       "      <th>2</th>\n",
       "      <td>3</td>\n",
       "      <td>P</td>\n",
       "      <td>1990-01-09</td>\n",
       "      <td>RUMPUN ILMU FORMAL</td>\n",
       "      <td>Aktif</td>\n",
       "      <td>PNS</td>\n",
       "      <td>Dosen Tetap</td>\n",
       "      <td>S2</td>\n",
       "      <td>III/b - Penata Muda Tk. I</td>\n",
       "      <td>Asisten Ahli</td>\n",
       "      <td>NaN</td>\n",
       "      <td>NaN</td>\n",
       "      <td>2024-05-01</td>\n",
       "      <td>S1</td>\n",
       "      <td>Sistem Informasi</td>\n",
       "      <td>FIK</td>\n",
       "      <td>35</td>\n",
       "    </tr>\n",
       "    <tr>\n",
       "      <th>3</th>\n",
       "      <td>4</td>\n",
       "      <td>P</td>\n",
       "      <td>1987-01-12</td>\n",
       "      <td>RUMPUN ILMU FORMAL</td>\n",
       "      <td>Aktif</td>\n",
       "      <td>PNS</td>\n",
       "      <td>Dosen Tetap</td>\n",
       "      <td>S2</td>\n",
       "      <td>III/c - Penata</td>\n",
       "      <td>Lektor</td>\n",
       "      <td>Sertifikasi Dosen</td>\n",
       "      <td>2018.0</td>\n",
       "      <td>2023-07-03</td>\n",
       "      <td>S1</td>\n",
       "      <td>Informatika</td>\n",
       "      <td>FIK</td>\n",
       "      <td>38</td>\n",
       "    </tr>\n",
       "    <tr>\n",
       "      <th>4</th>\n",
       "      <td>5</td>\n",
       "      <td>P</td>\n",
       "      <td>1967-11-28</td>\n",
       "      <td>Null</td>\n",
       "      <td>Aktif</td>\n",
       "      <td>ASN JF Non Dosen</td>\n",
       "      <td>Dosen Tidak Tetap</td>\n",
       "      <td>Sp-1</td>\n",
       "      <td>Null</td>\n",
       "      <td>NaN</td>\n",
       "      <td>NaN</td>\n",
       "      <td>NaN</td>\n",
       "      <td>NaN</td>\n",
       "      <td>Profesi</td>\n",
       "      <td>Pendidikan Profesi Dokter</td>\n",
       "      <td>FK</td>\n",
       "      <td>57</td>\n",
       "    </tr>\n",
       "  </tbody>\n",
       "</table>\n",
       "</div>"
      ],
      "text/plain": [
       "   id_pegawai jk  tgl_lahir          rumpun_ilmu stat_aktif      stat_pegawai  \\\n",
       "0           1  L 1972-02-10                 Null      Aktif  ASN JF Non Dosen   \n",
       "1           2  L 1985-03-27  RUMPUN ILMU TERAPAN      Aktif           NON ASN   \n",
       "2           3  P 1990-01-09   RUMPUN ILMU FORMAL      Aktif               PNS   \n",
       "3           4  P 1987-01-12   RUMPUN ILMU FORMAL      Aktif               PNS   \n",
       "4           5  P 1967-11-28                 Null      Aktif  ASN JF Non Dosen   \n",
       "\n",
       "                                  ikatan_kerja pendidikan  \\\n",
       "0                            Dosen Tidak Tetap       Sp-1   \n",
       "1  Dosen Tetap Perjanjian Kerja Waktu Tertentu         S3   \n",
       "2                                  Dosen Tetap         S2   \n",
       "3                                  Dosen Tetap         S2   \n",
       "4                            Dosen Tidak Tetap       Sp-1   \n",
       "\n",
       "                     pangkat jabatan_akademik        sertifikasi  \\\n",
       "0                       Null              NaN                NaN   \n",
       "1             III/c - Penata    Lektor Kepala  Sertifikasi Dosen   \n",
       "2  III/b - Penata Muda Tk. I     Asisten Ahli                NaN   \n",
       "3             III/c - Penata           Lektor  Sertifikasi Dosen   \n",
       "4                       Null              NaN                NaN   \n",
       "\n",
       "   tahun_sertifikasi tgl_jabatan_akademik jenj_prodi  \\\n",
       "0                NaN                  NaN    Profesi   \n",
       "1             2020.0           2023-06-01         S1   \n",
       "2                NaN           2024-05-01         S1   \n",
       "3             2018.0           2023-07-03         S1   \n",
       "4                NaN                  NaN    Profesi   \n",
       "\n",
       "                       prodi fakultas  umur  \n",
       "0  Pendidikan Profesi Dokter       FK    53  \n",
       "1               Teknik Mesin       FT    40  \n",
       "2           Sistem Informasi      FIK    35  \n",
       "3                Informatika      FIK    38  \n",
       "4  Pendidikan Profesi Dokter       FK    57  "
      ]
     },
     "execution_count": 208,
     "metadata": {},
     "output_type": "execute_result"
    }
   ],
   "source": [
    "df.head()"
   ]
  },
  {
   "cell_type": "markdown",
   "id": "99747a75",
   "metadata": {},
   "source": [
    "## jabatan_akademik"
   ]
  },
  {
   "cell_type": "code",
   "execution_count": 209,
   "id": "8ac9d6b3",
   "metadata": {},
   "outputs": [
    {
     "data": {
      "text/plain": [
       "array([nan, 'Lektor Kepala', 'Asisten Ahli', 'Lektor', 'Profesor'],\n",
       "      dtype=object)"
      ]
     },
     "execution_count": 209,
     "metadata": {},
     "output_type": "execute_result"
    }
   ],
   "source": [
    "df['jabatan_akademik'].unique()"
   ]
  },
  {
   "cell_type": "code",
   "execution_count": 210,
   "id": "524fe847",
   "metadata": {},
   "outputs": [
    {
     "data": {
      "text/plain": [
       "jabatan_akademik\n",
       "Lektor           321\n",
       "Asisten Ahli     118\n",
       "Lektor Kepala     41\n",
       "Profesor          10\n",
       "Name: count, dtype: int64"
      ]
     },
     "execution_count": 210,
     "metadata": {},
     "output_type": "execute_result"
    }
   ],
   "source": [
    "df['jabatan_akademik'].value_counts()"
   ]
  },
  {
   "cell_type": "code",
   "execution_count": 211,
   "id": "abb8a494",
   "metadata": {},
   "outputs": [],
   "source": [
    "df['jabatan_akademik'] = df['jabatan_akademik'].fillna('Null')"
   ]
  },
  {
   "cell_type": "markdown",
   "id": "f858bcae",
   "metadata": {},
   "source": [
    "## sertifikasi"
   ]
  },
  {
   "cell_type": "code",
   "execution_count": 212,
   "id": "c68fd30c",
   "metadata": {},
   "outputs": [
    {
     "data": {
      "text/plain": [
       "array([nan, 'Sertifikasi Dosen'], dtype=object)"
      ]
     },
     "execution_count": 212,
     "metadata": {},
     "output_type": "execute_result"
    }
   ],
   "source": [
    "df['sertifikasi'].unique()"
   ]
  },
  {
   "cell_type": "code",
   "execution_count": 213,
   "id": "b94ad52d",
   "metadata": {},
   "outputs": [],
   "source": [
    "## Sertifikasi diganti Null karena jika diganti menjadi Tidak ada Sertifikasi, \n",
    "\n",
    "df['sertifikasi'] = df['sertifikasi'].fillna('Null')"
   ]
  },
  {
   "cell_type": "code",
   "execution_count": 214,
   "id": "813d26cf",
   "metadata": {},
   "outputs": [
    {
     "data": {
      "text/plain": [
       "sertifikasi\n",
       "Null                 411\n",
       "Sertifikasi Dosen    314\n",
       "Name: count, dtype: int64"
      ]
     },
     "execution_count": 214,
     "metadata": {},
     "output_type": "execute_result"
    }
   ],
   "source": [
    "df['sertifikasi'].value_counts()"
   ]
  },
  {
   "cell_type": "markdown",
   "id": "d3bc8798",
   "metadata": {},
   "source": [
    "## tahun_sertifikasi"
   ]
  },
  {
   "cell_type": "code",
   "execution_count": 215,
   "id": "9d1c2002",
   "metadata": {},
   "outputs": [
    {
     "name": "stdout",
     "output_type": "stream",
     "text": [
      "<class 'pandas.core.frame.DataFrame'>\n",
      "RangeIndex: 725 entries, 0 to 724\n",
      "Data columns (total 17 columns):\n",
      " #   Column                Non-Null Count  Dtype         \n",
      "---  ------                --------------  -----         \n",
      " 0   id_pegawai            725 non-null    int64         \n",
      " 1   jk                    725 non-null    object        \n",
      " 2   tgl_lahir             725 non-null    datetime64[ns]\n",
      " 3   rumpun_ilmu           725 non-null    object        \n",
      " 4   stat_aktif            725 non-null    object        \n",
      " 5   stat_pegawai          725 non-null    object        \n",
      " 6   ikatan_kerja          725 non-null    object        \n",
      " 7   pendidikan            725 non-null    object        \n",
      " 8   pangkat               725 non-null    object        \n",
      " 9   jabatan_akademik      725 non-null    object        \n",
      " 10  sertifikasi           725 non-null    object        \n",
      " 11  tahun_sertifikasi     314 non-null    float64       \n",
      " 12  tgl_jabatan_akademik  490 non-null    object        \n",
      " 13  jenj_prodi            725 non-null    object        \n",
      " 14  prodi                 725 non-null    object        \n",
      " 15  fakultas              725 non-null    object        \n",
      " 16  umur                  725 non-null    int64         \n",
      "dtypes: datetime64[ns](1), float64(1), int64(2), object(13)\n",
      "memory usage: 96.4+ KB\n"
     ]
    }
   ],
   "source": [
    "df.info()"
   ]
  },
  {
   "cell_type": "markdown",
   "id": "9b0ce1aa",
   "metadata": {},
   "source": [
    "Mengubah tahun_sertifikasi dari float ke int"
   ]
  },
  {
   "cell_type": "code",
   "execution_count": 216,
   "id": "3d414547",
   "metadata": {},
   "outputs": [
    {
     "data": {
      "text/plain": [
       "array([  nan, 2020., 2018., 2017., 2015., 2024., 2016., 2012., 2022.,\n",
       "       2019., 2023., 2011., 2008., 2013., 2021.,    0., 2014., 2010.,\n",
       "       2009.])"
      ]
     },
     "execution_count": 216,
     "metadata": {},
     "output_type": "execute_result"
    }
   ],
   "source": [
    "df['tahun_sertifikasi'].unique()"
   ]
  },
  {
   "cell_type": "markdown",
   "id": "1bcf803e",
   "metadata": {},
   "source": [
    "Karena ada nilai 0 didalam tahun sertifikasi tetapi terdapat sertifikasi, maka akan diubah menjadi 1 sebagai tulisan bahwa:\n",
    "1 = Memiliki sertifikasi, tidak ada tahun\n",
    "0 = Tidak ada sertifikasi, tidak ada tahun"
   ]
  },
  {
   "cell_type": "code",
   "execution_count": 217,
   "id": "12d70de5",
   "metadata": {},
   "outputs": [],
   "source": [
    "df['tahun_sertifikasi'] = df['tahun_sertifikasi'].replace(0, 1)"
   ]
  },
  {
   "cell_type": "code",
   "execution_count": 218,
   "id": "425eff2b",
   "metadata": {},
   "outputs": [],
   "source": [
    "## Mengubah tahun_sertifikasi dari float ke int\n",
    "df['tahun_sertifikasi'] = df['tahun_sertifikasi'].fillna(0).astype(int)"
   ]
  },
  {
   "cell_type": "code",
   "execution_count": 219,
   "id": "ebfc7431",
   "metadata": {},
   "outputs": [
    {
     "name": "stdout",
     "output_type": "stream",
     "text": [
      "<class 'pandas.core.frame.DataFrame'>\n",
      "RangeIndex: 725 entries, 0 to 724\n",
      "Data columns (total 17 columns):\n",
      " #   Column                Non-Null Count  Dtype         \n",
      "---  ------                --------------  -----         \n",
      " 0   id_pegawai            725 non-null    int64         \n",
      " 1   jk                    725 non-null    object        \n",
      " 2   tgl_lahir             725 non-null    datetime64[ns]\n",
      " 3   rumpun_ilmu           725 non-null    object        \n",
      " 4   stat_aktif            725 non-null    object        \n",
      " 5   stat_pegawai          725 non-null    object        \n",
      " 6   ikatan_kerja          725 non-null    object        \n",
      " 7   pendidikan            725 non-null    object        \n",
      " 8   pangkat               725 non-null    object        \n",
      " 9   jabatan_akademik      725 non-null    object        \n",
      " 10  sertifikasi           725 non-null    object        \n",
      " 11  tahun_sertifikasi     725 non-null    int32         \n",
      " 12  tgl_jabatan_akademik  490 non-null    object        \n",
      " 13  jenj_prodi            725 non-null    object        \n",
      " 14  prodi                 725 non-null    object        \n",
      " 15  fakultas              725 non-null    object        \n",
      " 16  umur                  725 non-null    int64         \n",
      "dtypes: datetime64[ns](1), int32(1), int64(2), object(13)\n",
      "memory usage: 93.6+ KB\n"
     ]
    }
   ],
   "source": [
    "df.info()"
   ]
  },
  {
   "cell_type": "code",
   "execution_count": 220,
   "id": "44c09a61",
   "metadata": {},
   "outputs": [
    {
     "data": {
      "text/plain": [
       "array([   0, 2020, 2018, 2017, 2015, 2024, 2016, 2012, 2022, 2019, 2023,\n",
       "       2011, 2008, 2013, 2021,    1, 2014, 2010, 2009])"
      ]
     },
     "execution_count": 220,
     "metadata": {},
     "output_type": "execute_result"
    }
   ],
   "source": [
    "df['tahun_sertifikasi'].unique()"
   ]
  },
  {
   "cell_type": "code",
   "execution_count": 221,
   "id": "191a5bb8",
   "metadata": {},
   "outputs": [
    {
     "data": {
      "text/plain": [
       "tahun_sertifikasi\n",
       "0       411\n",
       "2020     43\n",
       "2017     31\n",
       "2019     25\n",
       "2024     24\n",
       "2012     23\n",
       "2016     22\n",
       "2021     22\n",
       "2018     21\n",
       "2023     21\n",
       "2011     19\n",
       "2015     16\n",
       "2022     15\n",
       "2013      8\n",
       "2014      6\n",
       "1         5\n",
       "2009      5\n",
       "2008      4\n",
       "2010      4\n",
       "Name: count, dtype: int64"
      ]
     },
     "execution_count": 221,
     "metadata": {},
     "output_type": "execute_result"
    }
   ],
   "source": [
    "df['tahun_sertifikasi'].value_counts()"
   ]
  },
  {
   "cell_type": "markdown",
   "id": "ed89de32",
   "metadata": {},
   "source": [
    "## tgl_jabatan_akademik"
   ]
  },
  {
   "cell_type": "code",
   "execution_count": 222,
   "id": "e5f58540",
   "metadata": {},
   "outputs": [
    {
     "data": {
      "text/plain": [
       "array([nan, '2023-06-01', '2024-05-01', '2023-07-03', '2016-01-01',\n",
       "       '2022-06-01', '2023-12-01', '2019-04-01', '2000-06-01',\n",
       "       '2023-05-03', '2006-06-01', '2022-03-01', '2002-09-01',\n",
       "       '2022-09-01', '2017-11-01', '2023-08-01', '2022-07-01',\n",
       "       '2024-09-01', '2023-04-01', '2021-11-01', '2020-06-01',\n",
       "       '2022-10-01', '2001-01-01', '2022-01-01', '2020-02-01',\n",
       "       '2019-07-01', '2024-01-01', '2023-06-05', '2017-02-01',\n",
       "       '2023-11-01', '2020-11-01', '2020-03-01', '2023-02-01',\n",
       "       '1970-01-01', '2018-08-01', '2019-10-01', '2007-10-01',\n",
       "       '2022-04-01', '2012-08-01', '2022-08-01', '2018-04-01',\n",
       "       '2021-04-01', '2021-07-01', '2024-11-01', '1997-07-01',\n",
       "       '2021-10-01', '2011-03-01', '2017-05-31', '2005-09-22',\n",
       "       '2024-12-01', '1998-10-31', '2020-07-01', '2024-02-01',\n",
       "       '2022-11-01', '2023-05-01', '2019-09-30', '2013-06-01',\n",
       "       '2017-04-01', '2023-04-03', '2018-12-01', '2023-10-01',\n",
       "       '2020-08-01', '2019-09-02', '2024-06-01', '2023-01-01',\n",
       "       '2021-02-01', '2020-12-01', '2009-01-01', '2007-09-01',\n",
       "       '2012-01-01', '2021-03-01', '2022-02-01', '2007-05-01',\n",
       "       '2022-05-01', '2019-05-01', '2020-03-31', '2019-04-21',\n",
       "       '2024-04-01', '2020-04-01', '2016-08-01', '2022-12-01',\n",
       "       '2010-01-01', '2024-08-01', '2002-04-01', '2016-05-24',\n",
       "       '2013-02-01', '1993-09-01', '2005-04-01', '2012-04-01',\n",
       "       '2022-10-11', '2021-01-01', '2018-01-01', '2018-10-01',\n",
       "       '2024-10-01', '2002-12-31', '2009-12-01', '2025-01-01',\n",
       "       '2013-10-01', '2021-05-01', '2019-01-01', '2019-09-01',\n",
       "       '2014-12-01', '2018-11-01', '2024-01-02', '2014-03-01',\n",
       "       '1997-09-01', '2009-10-17', '2021-06-01', '2019-12-01',\n",
       "       '2010-09-01', '2022-08-31', '2023-09-01', '2018-07-01',\n",
       "       '2017-06-01', '2011-08-01', '2012-10-01', '2020-10-01',\n",
       "       '2015-09-01', '2023-07-10', '2019-03-01', '2020-09-01',\n",
       "       '2020-05-01', '2019-11-01', '2015-01-01', '1990-10-01',\n",
       "       '2009-04-24', '2000-12-01', '2021-09-01', '2024-03-01',\n",
       "       '2007-04-01', '2005-07-01', '2000-01-01', '2013-04-01',\n",
       "       '2014-01-01', '1998-11-01', '2013-08-01', '2024-01-15',\n",
       "       '2010-04-30', '2009-04-01'], dtype=object)"
      ]
     },
     "execution_count": 222,
     "metadata": {},
     "output_type": "execute_result"
    }
   ],
   "source": [
    "df['tgl_jabatan_akademik'].unique()"
   ]
  },
  {
   "cell_type": "code",
   "execution_count": 223,
   "id": "0edc6b1d",
   "metadata": {},
   "outputs": [],
   "source": [
    "df['tgl_jabatan_akademik'] = pd.to_datetime(df['tgl_jabatan_akademik'], errors='coerce')"
   ]
  },
  {
   "cell_type": "markdown",
   "id": "e59b4ef0",
   "metadata": {},
   "source": [
    "## jenis_prodi"
   ]
  },
  {
   "cell_type": "code",
   "execution_count": 224,
   "id": "7ec229f7",
   "metadata": {},
   "outputs": [
    {
     "data": {
      "text/plain": [
       "array(['Profesi', 'S1', 'D3', 'S2', 'Sp-1', 'S3'], dtype=object)"
      ]
     },
     "execution_count": 224,
     "metadata": {},
     "output_type": "execute_result"
    }
   ],
   "source": [
    "df['jenj_prodi'].unique()"
   ]
  },
  {
   "cell_type": "code",
   "execution_count": 225,
   "id": "7156b105",
   "metadata": {},
   "outputs": [
    {
     "data": {
      "text/plain": [
       "jenj_prodi\n",
       "S1         475\n",
       "Profesi    134\n",
       "S2          53\n",
       "D3          51\n",
       "Sp-1         7\n",
       "S3           5\n",
       "Name: count, dtype: int64"
      ]
     },
     "execution_count": 225,
     "metadata": {},
     "output_type": "execute_result"
    }
   ],
   "source": [
    "df['jenj_prodi'].value_counts()"
   ]
  },
  {
   "cell_type": "code",
   "execution_count": 226,
   "id": "7a2e751f",
   "metadata": {},
   "outputs": [
    {
     "data": {
      "text/plain": [
       "0"
      ]
     },
     "execution_count": 226,
     "metadata": {},
     "output_type": "execute_result"
    }
   ],
   "source": [
    "df['jenj_prodi'].isnull().sum()"
   ]
  },
  {
   "cell_type": "markdown",
   "id": "21755635",
   "metadata": {},
   "source": [
    "## prodi"
   ]
  },
  {
   "cell_type": "code",
   "execution_count": 227,
   "id": "e84f7a36",
   "metadata": {},
   "outputs": [
    {
     "data": {
      "text/plain": [
       "array(['Pendidikan Profesi Dokter', 'Teknik Mesin', 'Sistem Informasi',\n",
       "       'Informatika', 'Keperawatan', 'Gizi', 'Teknik Industri', 'Hukum',\n",
       "       'Ilmu Komunikasi', 'Radiologi', 'Fisioterapi',\n",
       "       'Ekonomi Pembangunan', 'Perbankan dan Keuangan', 'Ilmu Politik',\n",
       "       'Manajemen', 'Hubungan Internasional', 'Kedokteran',\n",
       "       'Kajian Film, Televisi, dan Media', 'Sains Informasi',\n",
       "       'Ekonomi Syariah', 'Biologi', 'Farmasi', 'Akuntansi',\n",
       "       'Kesehatan Masyarakat', 'Sains Data', 'Hukum Bisnis',\n",
       "       'Pendidikan Profesi Ners', 'Teknik Perkapalan', 'Teknik Elektro',\n",
       "       'Sains Biomedis'], dtype=object)"
      ]
     },
     "execution_count": 227,
     "metadata": {},
     "output_type": "execute_result"
    }
   ],
   "source": [
    "df['prodi'].unique()"
   ]
  },
  {
   "cell_type": "code",
   "execution_count": 228,
   "id": "dc19ad16",
   "metadata": {},
   "outputs": [
    {
     "data": {
      "text/plain": [
       "30"
      ]
     },
     "execution_count": 228,
     "metadata": {},
     "output_type": "execute_result"
    }
   ],
   "source": [
    "df['prodi'].nunique()"
   ]
  },
  {
   "cell_type": "code",
   "execution_count": 229,
   "id": "8b9fc471",
   "metadata": {},
   "outputs": [
    {
     "data": {
      "text/plain": [
       "0"
      ]
     },
     "execution_count": 229,
     "metadata": {},
     "output_type": "execute_result"
    }
   ],
   "source": [
    "df['prodi'].isnull().sum()"
   ]
  },
  {
   "cell_type": "markdown",
   "id": "75cab0de",
   "metadata": {},
   "source": [
    "## fakultas"
   ]
  },
  {
   "cell_type": "markdown",
   "id": "33d0f22e",
   "metadata": {},
   "source": [
    "Mencoba untuk melihat apakah prodi dan fakultas sesuai\n",
    "\n",
    "P.S. Untuk setiap prodi dan fakultas, dicheck menggunakan referensi dari website UPNVJ"
   ]
  },
  {
   "cell_type": "markdown",
   "id": "62a6e8d7",
   "metadata": {},
   "source": [
    "FK – Fakultas Kedokteran\n",
    "- Pendidikan Profesi Dokter\n",
    "- Kedokteran\n",
    "- Sains Biomedis\n",
    "- Pendidikan Profesi Ners\n",
    "- Radiologi\n",
    "\n",
    "FT – Fakultas Teknik\n",
    "- Teknik Mesin\n",
    "- Teknik Industri\n",
    "- Teknik Elektro\n",
    "- Teknik Perkapalan\n",
    "\n",
    "FIK – Fakultas Ilmu Komputer\n",
    "- Sistem Informasi\n",
    "- Informatika\n",
    "- Sains Data\n",
    "\n",
    "FIKES – Fakultas Ilmu Kesehatan\n",
    "- Farmasi\n",
    "- Biologi\n",
    "- Keperawatan\n",
    "- Gizi\n",
    "- Fisioterapi\n",
    "- Kesehatan Masyarakat\n",
    "\n",
    "FH – Fakultas Hukum\n",
    "- Hukum\n",
    "- Hukum Bisnis\n",
    "\n",
    "FISIP – Fakultas Ilmu Sosial dan Ilmu Politik\n",
    "- Sains Informasi\n",
    "- Ilmu Komunikasi\n",
    "- Ilmu Politik\n",
    "- Hubungan Internasional\n",
    "- Kajian Film, Televisi, dan Media\n",
    "\n",
    "FEB – Fakultas Ekonomi dan Bisnis\n",
    "- Ekonomi Pembangunan\n",
    "- Perbankan dan Keuangan\n",
    "- Manajemen\n",
    "- Ekonomi Syariah\n",
    "- Akuntansi"
   ]
  },
  {
   "cell_type": "code",
   "execution_count": 230,
   "id": "0fcfd231",
   "metadata": {},
   "outputs": [
    {
     "data": {
      "text/plain": [
       "array(['FK', 'FT', 'FIK', 'FIKES', 'FH', 'FISIP', 'FEB'], dtype=object)"
      ]
     },
     "execution_count": 230,
     "metadata": {},
     "output_type": "execute_result"
    }
   ],
   "source": [
    "df['fakultas'].unique()"
   ]
  },
  {
   "cell_type": "code",
   "execution_count": 231,
   "id": "0dafaa7d",
   "metadata": {},
   "outputs": [
    {
     "data": {
      "text/plain": [
       "0"
      ]
     },
     "execution_count": 231,
     "metadata": {},
     "output_type": "execute_result"
    }
   ],
   "source": [
    "df['fakultas'].isnull().sum()"
   ]
  },
  {
   "cell_type": "code",
   "execution_count": 232,
   "id": "d6590f8c",
   "metadata": {},
   "outputs": [],
   "source": [
    "mapping_fakultas = {\n",
    "    # FK\n",
    "    'Pendidikan Profesi Dokter': 'FK',\n",
    "    'Kedokteran': 'FK',\n",
    "    'Sains Biomedis': 'FK',\n",
    "    'Pendidikan Profesi Ners': 'FK',\n",
    "    'Radiologi': 'FK',\n",
    "\n",
    "    # FT\n",
    "    'Teknik Mesin': 'FT',\n",
    "    'Teknik Industri': 'FT',\n",
    "    'Teknik Elektro': 'FT',\n",
    "    'Teknik Perkapalan': 'FT',\n",
    "\n",
    "    # FIK\n",
    "    'Sistem Informasi': 'FIK',\n",
    "    'Informatika': 'FIK',\n",
    "    'Sains Data': 'FIK',\n",
    "\n",
    "    # FIKES\n",
    "    'Farmasi': 'FIKES',\n",
    "    'Biologi': 'FIKES',\n",
    "    'Keperawatan': 'FIKES',\n",
    "    'Gizi': 'FIKES',\n",
    "    'Fisioterapi': 'FIKES',\n",
    "    'Kesehatan Masyarakat': 'FIKES',\n",
    "\n",
    "    # FH\n",
    "    'Hukum': 'FH',\n",
    "    'Hukum Bisnis': 'FH',\n",
    "\n",
    "    # FISIP\n",
    "    'Ilmu Komunikasi': 'FISIP',\n",
    "    'Ilmu Politik': 'FISIP',\n",
    "    'Hubungan Internasional': 'FISIP',\n",
    "    'Kajian Film, Televisi, dan Media': 'FISIP',\n",
    "    'Sains Informasi': 'FISIP',\n",
    "\n",
    "    # FEB\n",
    "    'Ekonomi Pembangunan': 'FEB',\n",
    "    'Perbankan dan Keuangan': 'FEB',\n",
    "    'Manajemen': 'FEB',\n",
    "    'Ekonomi Syariah': 'FEB',\n",
    "    'Akuntansi': 'FEB'\n",
    "}\n"
   ]
  },
  {
   "cell_type": "markdown",
   "id": "ad50e054",
   "metadata": {},
   "source": [
    "- Terdapat kesalahan untuk Hubungan Internasional yang seharusnya FISIP, tetapi dalam data tertulis FH\n",
    "- Manajemen seharusnya berada di FEB, tetapi di data tertulis berada di FISIP\n",
    "- Sains Biomedis seharusnya berada di FK, tetapi berada di FIKES"
   ]
  },
  {
   "cell_type": "code",
   "execution_count": 233,
   "id": "7e9c1573",
   "metadata": {},
   "outputs": [],
   "source": [
    "df['fakultas'] = df['prodi'].map(mapping_fakultas)"
   ]
  },
  {
   "cell_type": "code",
   "execution_count": 234,
   "id": "5e4cea08",
   "metadata": {},
   "outputs": [
    {
     "name": "stdout",
     "output_type": "stream",
     "text": [
      "                       prodi fakultas\n",
      "0  Pendidikan Profesi Dokter       FK\n",
      "1               Teknik Mesin       FT\n",
      "2           Sistem Informasi      FIK\n",
      "3                Informatika      FIK\n",
      "4  Pendidikan Profesi Dokter       FK\n"
     ]
    }
   ],
   "source": [
    "print(df[['prodi', 'fakultas']].head())"
   ]
  },
  {
   "cell_type": "markdown",
   "id": "457c232b",
   "metadata": {},
   "source": [
    "## Setelah preprocess and cleaning"
   ]
  },
  {
   "cell_type": "code",
   "execution_count": 235,
   "id": "4bd9f7ec",
   "metadata": {},
   "outputs": [
    {
     "data": {
      "text/html": [
       "<div>\n",
       "<style scoped>\n",
       "    .dataframe tbody tr th:only-of-type {\n",
       "        vertical-align: middle;\n",
       "    }\n",
       "\n",
       "    .dataframe tbody tr th {\n",
       "        vertical-align: top;\n",
       "    }\n",
       "\n",
       "    .dataframe thead th {\n",
       "        text-align: right;\n",
       "    }\n",
       "</style>\n",
       "<table border=\"1\" class=\"dataframe\">\n",
       "  <thead>\n",
       "    <tr style=\"text-align: right;\">\n",
       "      <th></th>\n",
       "      <th>id_pegawai</th>\n",
       "      <th>jk</th>\n",
       "      <th>tgl_lahir</th>\n",
       "      <th>rumpun_ilmu</th>\n",
       "      <th>stat_aktif</th>\n",
       "      <th>stat_pegawai</th>\n",
       "      <th>ikatan_kerja</th>\n",
       "      <th>pendidikan</th>\n",
       "      <th>pangkat</th>\n",
       "      <th>jabatan_akademik</th>\n",
       "      <th>sertifikasi</th>\n",
       "      <th>tahun_sertifikasi</th>\n",
       "      <th>tgl_jabatan_akademik</th>\n",
       "      <th>jenj_prodi</th>\n",
       "      <th>prodi</th>\n",
       "      <th>fakultas</th>\n",
       "      <th>umur</th>\n",
       "    </tr>\n",
       "  </thead>\n",
       "  <tbody>\n",
       "    <tr>\n",
       "      <th>0</th>\n",
       "      <td>1</td>\n",
       "      <td>L</td>\n",
       "      <td>1972-02-10</td>\n",
       "      <td>Null</td>\n",
       "      <td>Aktif</td>\n",
       "      <td>ASN JF Non Dosen</td>\n",
       "      <td>Dosen Tidak Tetap</td>\n",
       "      <td>Sp-1</td>\n",
       "      <td>Null</td>\n",
       "      <td>Null</td>\n",
       "      <td>Null</td>\n",
       "      <td>0</td>\n",
       "      <td>NaT</td>\n",
       "      <td>Profesi</td>\n",
       "      <td>Pendidikan Profesi Dokter</td>\n",
       "      <td>FK</td>\n",
       "      <td>53</td>\n",
       "    </tr>\n",
       "    <tr>\n",
       "      <th>1</th>\n",
       "      <td>2</td>\n",
       "      <td>L</td>\n",
       "      <td>1985-03-27</td>\n",
       "      <td>RUMPUN ILMU TERAPAN</td>\n",
       "      <td>Aktif</td>\n",
       "      <td>NON ASN</td>\n",
       "      <td>Dosen Tetap Perjanjian Kerja Waktu Tertentu</td>\n",
       "      <td>S3</td>\n",
       "      <td>III/c - Penata</td>\n",
       "      <td>Lektor Kepala</td>\n",
       "      <td>Sertifikasi Dosen</td>\n",
       "      <td>2020</td>\n",
       "      <td>2023-06-01</td>\n",
       "      <td>S1</td>\n",
       "      <td>Teknik Mesin</td>\n",
       "      <td>FT</td>\n",
       "      <td>40</td>\n",
       "    </tr>\n",
       "    <tr>\n",
       "      <th>2</th>\n",
       "      <td>3</td>\n",
       "      <td>P</td>\n",
       "      <td>1990-01-09</td>\n",
       "      <td>RUMPUN ILMU FORMAL</td>\n",
       "      <td>Aktif</td>\n",
       "      <td>PNS</td>\n",
       "      <td>Dosen Tetap</td>\n",
       "      <td>S2</td>\n",
       "      <td>III/b - Penata Muda Tk. I</td>\n",
       "      <td>Asisten Ahli</td>\n",
       "      <td>Null</td>\n",
       "      <td>0</td>\n",
       "      <td>2024-05-01</td>\n",
       "      <td>S1</td>\n",
       "      <td>Sistem Informasi</td>\n",
       "      <td>FIK</td>\n",
       "      <td>35</td>\n",
       "    </tr>\n",
       "    <tr>\n",
       "      <th>3</th>\n",
       "      <td>4</td>\n",
       "      <td>P</td>\n",
       "      <td>1987-01-12</td>\n",
       "      <td>RUMPUN ILMU FORMAL</td>\n",
       "      <td>Aktif</td>\n",
       "      <td>PNS</td>\n",
       "      <td>Dosen Tetap</td>\n",
       "      <td>S2</td>\n",
       "      <td>III/c - Penata</td>\n",
       "      <td>Lektor</td>\n",
       "      <td>Sertifikasi Dosen</td>\n",
       "      <td>2018</td>\n",
       "      <td>2023-07-03</td>\n",
       "      <td>S1</td>\n",
       "      <td>Informatika</td>\n",
       "      <td>FIK</td>\n",
       "      <td>38</td>\n",
       "    </tr>\n",
       "    <tr>\n",
       "      <th>4</th>\n",
       "      <td>5</td>\n",
       "      <td>P</td>\n",
       "      <td>1967-11-28</td>\n",
       "      <td>Null</td>\n",
       "      <td>Aktif</td>\n",
       "      <td>ASN JF Non Dosen</td>\n",
       "      <td>Dosen Tidak Tetap</td>\n",
       "      <td>Sp-1</td>\n",
       "      <td>Null</td>\n",
       "      <td>Null</td>\n",
       "      <td>Null</td>\n",
       "      <td>0</td>\n",
       "      <td>NaT</td>\n",
       "      <td>Profesi</td>\n",
       "      <td>Pendidikan Profesi Dokter</td>\n",
       "      <td>FK</td>\n",
       "      <td>57</td>\n",
       "    </tr>\n",
       "  </tbody>\n",
       "</table>\n",
       "</div>"
      ],
      "text/plain": [
       "   id_pegawai jk  tgl_lahir          rumpun_ilmu stat_aktif      stat_pegawai  \\\n",
       "0           1  L 1972-02-10                 Null      Aktif  ASN JF Non Dosen   \n",
       "1           2  L 1985-03-27  RUMPUN ILMU TERAPAN      Aktif           NON ASN   \n",
       "2           3  P 1990-01-09   RUMPUN ILMU FORMAL      Aktif               PNS   \n",
       "3           4  P 1987-01-12   RUMPUN ILMU FORMAL      Aktif               PNS   \n",
       "4           5  P 1967-11-28                 Null      Aktif  ASN JF Non Dosen   \n",
       "\n",
       "                                  ikatan_kerja pendidikan  \\\n",
       "0                            Dosen Tidak Tetap       Sp-1   \n",
       "1  Dosen Tetap Perjanjian Kerja Waktu Tertentu         S3   \n",
       "2                                  Dosen Tetap         S2   \n",
       "3                                  Dosen Tetap         S2   \n",
       "4                            Dosen Tidak Tetap       Sp-1   \n",
       "\n",
       "                     pangkat jabatan_akademik        sertifikasi  \\\n",
       "0                       Null             Null               Null   \n",
       "1             III/c - Penata    Lektor Kepala  Sertifikasi Dosen   \n",
       "2  III/b - Penata Muda Tk. I     Asisten Ahli               Null   \n",
       "3             III/c - Penata           Lektor  Sertifikasi Dosen   \n",
       "4                       Null             Null               Null   \n",
       "\n",
       "   tahun_sertifikasi tgl_jabatan_akademik jenj_prodi  \\\n",
       "0                  0                  NaT    Profesi   \n",
       "1               2020           2023-06-01         S1   \n",
       "2                  0           2024-05-01         S1   \n",
       "3               2018           2023-07-03         S1   \n",
       "4                  0                  NaT    Profesi   \n",
       "\n",
       "                       prodi fakultas  umur  \n",
       "0  Pendidikan Profesi Dokter       FK    53  \n",
       "1               Teknik Mesin       FT    40  \n",
       "2           Sistem Informasi      FIK    35  \n",
       "3                Informatika      FIK    38  \n",
       "4  Pendidikan Profesi Dokter       FK    57  "
      ]
     },
     "execution_count": 235,
     "metadata": {},
     "output_type": "execute_result"
    }
   ],
   "source": [
    "df.head()"
   ]
  },
  {
   "cell_type": "code",
   "execution_count": 236,
   "id": "ba0a9578",
   "metadata": {},
   "outputs": [
    {
     "data": {
      "text/plain": [
       "id_pegawai                0\n",
       "jk                        0\n",
       "tgl_lahir                 0\n",
       "rumpun_ilmu               0\n",
       "stat_aktif                0\n",
       "stat_pegawai              0\n",
       "ikatan_kerja              0\n",
       "pendidikan                0\n",
       "pangkat                   0\n",
       "jabatan_akademik          0\n",
       "sertifikasi               0\n",
       "tahun_sertifikasi         0\n",
       "tgl_jabatan_akademik    235\n",
       "jenj_prodi                0\n",
       "prodi                     0\n",
       "fakultas                  0\n",
       "umur                      0\n",
       "dtype: int64"
      ]
     },
     "execution_count": 236,
     "metadata": {},
     "output_type": "execute_result"
    }
   ],
   "source": [
    "df.isnull().sum()"
   ]
  },
  {
   "cell_type": "code",
   "execution_count": null,
   "id": "887bb794",
   "metadata": {},
   "outputs": [],
   "source": [
    "import os\n",
    "\n",
    "if not os.path.exists('data'):\n",
    "    os.makedirs('data')"
   ]
  },
  {
   "cell_type": "code",
   "execution_count": null,
   "id": "a315402a",
   "metadata": {},
   "outputs": [],
   "source": [
    "df.to_csv('data/Data Pegawai Kampus XYZ - Clean.csv', index=False)"
   ]
  },
  {
   "cell_type": "markdown",
   "id": "910fa9d7",
   "metadata": {},
   "source": [
    "**Kualitas Data**\n",
    "\n",
    "Kualitas datanya sudah baik, tetapi dapat ditingkatkan lagi, seperti terdapat angka 0 pada tgl_jabatan_akademik, banyak data yang kosong/null, terdapat sertifikasi dosen tetapi tidak ada tahun_sertifikasinya. Selain itu terdapat beberapa prodi yang memiliki fakultas yang salah."
   ]
  },
  {
   "cell_type": "markdown",
   "id": "0f158497",
   "metadata": {},
   "source": [
    "**Penjelasan Konteks dan Tujuan Analisis**\n",
    "\n",
    "Menganalisis komposisi pegawai di lingkungan Kampus XYZ untuk melihat distribusi jabatan, status kepegawaian, dan jumlah dosen yang sudah tersertifikasi, serta mengidentifikasi apakah ada ketidaksesuaian antara ikatan kerja dan status kepegawaiannya."
   ]
  }
 ],
 "metadata": {
  "kernelspec": {
   "display_name": "Python 3",
   "language": "python",
   "name": "python3"
  },
  "language_info": {
   "codemirror_mode": {
    "name": "ipython",
    "version": 3
   },
   "file_extension": ".py",
   "mimetype": "text/x-python",
   "name": "python",
   "nbconvert_exporter": "python",
   "pygments_lexer": "ipython3",
   "version": "3.12.6"
  }
 },
 "nbformat": 4,
 "nbformat_minor": 5
}
